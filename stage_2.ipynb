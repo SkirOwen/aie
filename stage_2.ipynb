{
 "cells": [
  {
   "cell_type": "code",
   "execution_count": null,
   "id": "passing-citation",
   "metadata": {},
   "outputs": [],
   "source": [
    "import tensorflow as tf\n",
    "from tensorflow import keras\n",
    "from tensorflow.keras import layers\n",
    "import matplotlib.pyplot as plt\n",
    "from datetime import datetime\n",
    "import numpy as np\n",
    "import random\n",
    "import os\n",
    "\n",
    "gpus = tf.config.list_physical_devices('GPU')\n",
    "for gpu in gpus:\n",
    "    tf.config.experimental.set_memory_growth(gpu, True)\n",
    "\n",
    "keras.mixed_precision.set_global_policy('mixed_float16')\n",
    "\n",
    "tf.config.optimizer.set_jit(True)\n",
    "\n",
    "os.environ['TF_GPU_THREAD_MODE'] = 'gpu_private'"
   ]
  },
  {
   "cell_type": "code",
   "execution_count": null,
   "id": "union-sellers",
   "metadata": {},
   "outputs": [],
   "source": [
    "training_path = \"./data/training\"\n",
    "label_to_int = {'cycling': '0', 'jogging': '1', 'sitting': '2'}\n",
    "training_list = []\n",
    "\n",
    "for label in os.listdir(training_path):\n",
    "    image_path = os.path.join(training_path, label)\n",
    "    for filename in os.listdir(image_path):\n",
    "        training_list.append((os.path.join(image_path, filename), label_to_int[label]))\n",
    "\n",
    "random.shuffle(training_list)\n",
    "training_list = tf.data.Dataset.from_tensor_slices(training_list)\n",
    "print(\"Number of training data:\", len(training_list))"
   ]
  },
  {
   "cell_type": "code",
   "execution_count": null,
   "id": "failing-gibraltar",
   "metadata": {},
   "outputs": [],
   "source": [
    "def preprocess_data(sample):\n",
    "    \n",
    "    image = tf.io.read_file(sample[0])\n",
    "    image = tf.io.decode_image(image, channels=3, expand_animations=False)\n",
    "    image = tf.image.resize(image, [71, 71], antialias=True)\n",
    "    \n",
    "    label = sample[1]\n",
    "    label = tf.strings.to_number(label, out_type='int32')\n",
    "    \n",
    "    return image, label"
   ]
  },
  {
   "cell_type": "code",
   "execution_count": null,
   "id": "laughing-dairy",
   "metadata": {},
   "outputs": [],
   "source": [
    "def data_augmentation(image, label):\n",
    "    \n",
    "    image = tf.image.random_brightness(image, 64)\n",
    "    image = tf.image.random_hue(image, 0.1)\n",
    "    image = tf.clip_by_value(image, 0., 255.)\n",
    "    image = tf.image.random_flip_left_right(image)\n",
    "    \n",
    "    return image, label"
   ]
  },
  {
   "cell_type": "code",
   "execution_count": null,
   "id": "purple-alabama",
   "metadata": {},
   "outputs": [],
   "source": [
    "BATCH_SIZE = 48\n",
    "training_data = training_list.map(\n",
    "    preprocess_data,\n",
    "    num_parallel_calls=tf.data.AUTOTUNE).batch(BATCH_SIZE, drop_remainder=True).cache().prefetch(tf.data.AUTOTUNE)"
   ]
  },
  {
   "cell_type": "code",
   "execution_count": null,
   "id": "cordless-donor",
   "metadata": {},
   "outputs": [],
   "source": [
    "pre_trained_model = keras.applications.MobileNetV3Small(\n",
    "    input_shape=(71, 71, 3), \n",
    "    include_top=False,\n",
    "    pooling='avg',\n",
    "    weights='imagenet')\n",
    "\n",
    "for layer in pre_trained_model.layers:\n",
    "    layer.trainable = False\n",
    "\n",
    "NAME = 'classification_layer'\n",
    "x = layers.Dense(3, dtype='float32', name=\"classification\")(pre_trained_model.output)\n",
    "model = keras.Model(pre_trained_model.input, x, name=NAME)\n",
    "\n",
    "model.compile(\n",
    "    optimizer='adam',\n",
    "    loss=keras.losses.SparseCategoricalCrossentropy(from_logits=True),\n",
    "    metrics=['accuracy'])\n",
    "\n",
    "model.summary()"
   ]
  },
  {
   "cell_type": "code",
   "execution_count": null,
   "id": "modular-province",
   "metadata": {},
   "outputs": [],
   "source": [
    "EPOCHS = 200\n",
    "\n",
    "history = model.fit(\n",
    "    training_data,\n",
    "    epochs=EPOCHS,\n",
    "    verbose=0)"
   ]
  },
  {
   "cell_type": "code",
   "execution_count": null,
   "id": "royal-access",
   "metadata": {},
   "outputs": [],
   "source": [
    "plt.plot(history.history['loss'], label='training loss')\n",
    "plt.title('Training Loss')\n",
    "plt.xlabel('Epoch')\n",
    "plt.ylabel('Loss')\n",
    "plt.grid()\n",
    "plt.show()\n",
    "\n",
    "plt.plot(history.history['accuracy'], label='training accuracy')\n",
    "plt.title('Training Accuracy')\n",
    "plt.xlabel('Epoch')\n",
    "plt.ylabel('Accuracy')\n",
    "plt.grid()\n",
    "plt.show()"
   ]
  },
  {
   "cell_type": "code",
   "execution_count": null,
   "id": "micro-substance",
   "metadata": {},
   "outputs": [],
   "source": []
  }
 ],
 "metadata": {
  "kernelspec": {
   "display_name": "Python 3",
   "language": "python",
   "name": "python3"
  },
  "language_info": {
   "codemirror_mode": {
    "name": "ipython",
    "version": 3
   },
   "file_extension": ".py",
   "mimetype": "text/x-python",
   "name": "python",
   "nbconvert_exporter": "python",
   "pygments_lexer": "ipython3",
   "version": "3.8.8"
  }
 },
 "nbformat": 4,
 "nbformat_minor": 5
}
